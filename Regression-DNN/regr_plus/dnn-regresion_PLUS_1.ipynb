{
 "cells": [
  {
   "cell_type": "code",
   "execution_count": 3,
   "metadata": {},
   "outputs": [],
   "source": [
    "import pandas as pd\n",
    "import numpy as np\n",
    "from matplotlib import pyplot as plt\n",
    "\n",
    "from sklearn.model_selection import train_test_split\n",
    "from sklearn.metrics import mean_squared_error, r2_score\n",
    "from sklearn.preprocessing import MinMaxScaler\n",
    "\n",
    "\n",
    "import copy\n",
    "import torch\n",
    "import tqdm\n",
    "import torch.nn as nn\n",
    "import torch.optim as optim\n",
    "\n"
   ]
  },
  {
   "cell_type": "code",
   "execution_count": 4,
   "metadata": {},
   "outputs": [
    {
     "name": "stdout",
     "output_type": "stream",
     "text": [
      "DATOS LISTOS\n",
      "\n",
      "DATOS TEST Y TRAIN LISTOS\n",
      "\n"
     ]
    }
   ],
   "source": [
    "# PREPOCESAMIENTO DE DATOS\n",
    "\n",
    "\n",
    "# cargar dataset\n",
    "df_part = pd.read_csv('../../data/partidos_train_ucl_23_todo_24_fg_PROP.csv')\n",
    "df_part.set_index('Match_ID', inplace=True)\n",
    "\n",
    "# seleccionar variables de interes\n",
    "df_1 = df_part.copy()\n",
    "variables = df_1.drop(['Nombre_Eq1','Nombre_Eq2','GANADOR','Year'], axis=1).columns.to_list()\n",
    "df_1 = df_1[variables]\n",
    "\n",
    "\n",
    "# ampliar dataset (x4) para ML\n",
    "df_3 = df_1.copy()\n",
    "for _ in range(2):\n",
    "    df_3 = pd.concat([df_3, df_3], axis=0)\n",
    "\n",
    "print('DATOS LISTOS')\n",
    "print()\n",
    "\n",
    "\n",
    "\n",
    "\n",
    "# DIVIDIR TEST Y TRAIN\n",
    "df_4 = df_3.copy()\n",
    "caracteristicas = df_4.drop(['Gol_Match_Eq1', 'Gol_Match_Eq2'], axis=1).columns.to_list()\n",
    "objetivo = ['Gol_Match_Eq1', 'Gol_Match_Eq2']\n",
    "\n",
    "data_caract = df_4[caracteristicas].values\n",
    "data_obj = df_4[objetivo].values\n",
    "\n",
    "# División entrenamiento-prueba para evaluación del modelo\n",
    "X_train, X_test, y_train, y_test = train_test_split(data_caract, data_obj, train_size=0.7, shuffle=True)\n",
    "\n",
    "\n",
    "# escalar datos variables independientes\n",
    "scaler = MinMaxScaler()\n",
    "X_train_sc = scaler.fit_transform(X_train)\n",
    "X_test_sc = scaler.transform(X_test)\n",
    "\n",
    "\n",
    "# Convertir a tensores 2D de PyTorch\n",
    "X_train = torch.tensor(X_train, dtype=torch.float32)\n",
    "y_train = torch.tensor(y_train, dtype=torch.float32).reshape(-1, 2)  # Asegurarse de que y_train tenga 2 columnas\n",
    "X_test = torch.tensor(X_test, dtype=torch.float32)\n",
    "y_test = torch.tensor(y_test, dtype=torch.float32).reshape(-1, 2)  # Asegurarse de que y_test tenga 2 columnas\n",
    "\n",
    "\n",
    "print('DATOS TEST Y TRAIN LISTOS')\n",
    "print()"
   ]
  },
  {
   "cell_type": "code",
   "execution_count": 5,
   "metadata": {},
   "outputs": [
    {
     "data": {
      "text/plain": [
       "34"
      ]
     },
     "execution_count": 5,
     "metadata": {},
     "output_type": "execute_result"
    }
   ],
   "source": [
    "len(caracteristicas)"
   ]
  },
  {
   "cell_type": "code",
   "execution_count": 6,
   "metadata": {},
   "outputs": [
    {
     "data": {
      "text/plain": [
       "<All keys matched successfully>"
      ]
     },
     "execution_count": 6,
     "metadata": {},
     "output_type": "execute_result"
    }
   ],
   "source": [
    "# Definir el modelo\n",
    "UCL_model = nn.Sequential(\n",
    "    nn.Linear(len(caracteristicas), 100),  # Entrada de 32 características\n",
    "    nn.ReLU(),\n",
    "    nn.Linear(100, 50),\n",
    "    nn.ReLU(),\n",
    "    nn.Linear(50, 25),\n",
    "    nn.ReLU(),\n",
    "    nn.Linear(25, 2)  # Salida de 2 variables objetivo\n",
    ")\n",
    "\n",
    "# Función de pérdida y optimizador\n",
    "loss_fn = nn.MSELoss()  # Error cuadrático medio\n",
    "optimizer = optim.Adam(UCL_model.parameters(), lr=0.0001)\n",
    "\n",
    "n_epochs = 100   # numero epochs\n",
    "batch_size = 10  # tamaño del conjunto de actualizacion de pesos\n",
    "batch_start = torch.arange(0, len(X_train), batch_size)\n",
    "\n",
    "\n",
    "# Guardar el mejor modelo\n",
    "best_mse = np.inf\n",
    "best_weights = None\n",
    "history = []\n",
    "\n",
    "\n",
    "for epoch in range(n_epochs):\n",
    "    UCL_model.train()\n",
    "    with tqdm.tqdm(batch_start, unit=\"batch\", mininterval=0, disable=True) as bar:\n",
    "        bar.set_description(f\"Epoch {epoch}\")\n",
    "        for start in bar:\n",
    "            end = min(start + batch_size, len(X_train))  # Ajuste para el último lote\n",
    "            X_batch = X_train[start:end]\n",
    "            y_batch = y_train[start:end]\n",
    "            # Paso hacia adelante\n",
    "            y_pred = UCL_model(X_batch)\n",
    "            loss = loss_fn(y_pred, y_batch)\n",
    "            # Paso hacia atrás\n",
    "            optimizer.zero_grad()\n",
    "            loss.backward()\n",
    "            # Actualizar pesos\n",
    "            optimizer.step()\n",
    "            bar.set_postfix(mse=float(loss))\n",
    "    # Evaluar precisión al final de cada época\n",
    "    UCL_model.eval()\n",
    "    y_pred = UCL_model(X_test)\n",
    "    mse = loss_fn(y_pred, y_test)\n",
    "    mse = float(mse)\n",
    "    history.append(mse)\n",
    "    if mse < best_mse:\n",
    "        best_mse = mse\n",
    "        best_weights = copy.deepcopy(UCL_model.state_dict())\n",
    "\n",
    "# Restaurar modelo a la mejor precisión\n",
    "UCL_model.load_state_dict(best_weights)\n"
   ]
  },
  {
   "cell_type": "code",
   "execution_count": 7,
   "metadata": {},
   "outputs": [
    {
     "name": "stdout",
     "output_type": "stream",
     "text": [
      "MSE: 1.11\n",
      "RMSE: 1.05\n"
     ]
    },
    {
     "data": {
      "image/png": "[encoded data removed]",
      "text/plain": [
       "<Figure size 640x480 with 1 Axes>"
      ]
     },
     "metadata": {},
     "output_type": "display_data"
    }
   ],
   "source": [
    "print(\"MSE: %.2f\" % best_mse)\n",
    "print(\"RMSE: %.2f\" % np.sqrt(best_mse))\n",
    "plt.plot(history)\n",
    "plt.xlabel('Epoch')\n",
    "plt.ylabel('MSE')\n",
    "plt.title('Model Training History')\n",
    "plt.show()"
   ]
  },
  {
   "cell_type": "code",
   "execution_count": 8,
   "metadata": {},
   "outputs": [
    {
     "name": "stdout",
     "output_type": "stream",
     "text": [
      "model saved as goal_regression_dnn.pth\n"
     ]
    }
   ],
   "source": [
    "# Save the model weights\n",
    "model_file = 'goal_regression_dnn.pth'\n",
    "torch.save(UCL_model.state_dict(), model_file)\n",
    "#del UCL_model\n",
    "print('model saved as', model_file)"
   ]
  },
  {
   "cell_type": "markdown",
   "metadata": {},
   "source": [
    "## Predicciones"
   ]
  },
  {
   "cell_type": "code",
   "execution_count": 9,
   "metadata": {},
   "outputs": [],
   "source": [
    "def predecir_resultado(model, feature_vector):\n",
    "    \n",
    "    model.eval()  # Poner el modelo en modo de evaluación\n",
    "    # Convertir el vector de características a tensor de PyTorch\n",
    "    # Asegúrate de que el vector de entrada sea de tipo float32\n",
    "    if isinstance(feature_vector, list):\n",
    "        feature_vector = np.array(feature_vector)\n",
    "    feature_tensor = torch.tensor(feature_vector, dtype=torch.float32).unsqueeze(0)  # Añadir una dimensión batch\n",
    "    \n",
    "    with torch.no_grad():  # Desactivar el seguimiento de gradientes\n",
    "        predictions = model(feature_tensor)  # Obtener las predicciones del modelo\n",
    "        # Convertir las predicciones a un array de numpy para facilitar su manipulación\n",
    "        predictions = predictions.numpy()\n",
    "        \n",
    "    return predictions\n",
    "\n",
    "\n",
    "def resultado_media_final(eq1, eq2):\n",
    "    '''media de partido de ida y de vuelta'''\n",
    "    eq1_eq2 = predecir_resultado(UCL_model, eq1+eq2)[0]\n",
    "    eq2_eq1 = predecir_resultado(UCL_model, eq2+eq1)[0]\n",
    "    goles_eq1 = [eq1_eq2[0], eq2_eq1[1]]\n",
    "    goles_eq2 = [eq1_eq2[1], eq2_eq1[0]]\n",
    "\n",
    "    media_eq1 = np.mean(goles_eq1).round(3)\n",
    "    media_eq2 = np.mean(goles_eq2).round(3)\n",
    "\n",
    "    return media_eq1, media_eq2"
   ]
  },
  {
   "cell_type": "code",
   "execution_count": 10,
   "metadata": {},
   "outputs": [],
   "source": [
    "def imprimir_resultados(eq1, eq2):\n",
    "    print(predecir_resultado(UCL_model, eq1+eq2))\n",
    "    print(predecir_resultado(UCL_model, eq2+eq1))\n",
    "    print(resultado_media_final(eq1, eq2))"
   ]
  },
  {
   "cell_type": "markdown",
   "metadata": {},
   "source": [
    "### Octavos"
   ]
  },
  {
   "cell_type": "code",
   "execution_count": 11,
   "metadata": {},
   "outputs": [
    {
     "name": "stdout",
     "output_type": "stream",
     "text": [
      "[[0.9219023 0.7465924]]\n",
      "[[0.49196145 1.3170997 ]]\n",
      "(1.12, 0.619)\n"
     ]
    }
   ],
   "source": [
    "psg = [1.55,1.13,2.68,1.4,2.53,23.48,2.57,13.07,4.39,0.25,0.08,0.23,0.86,0.54,3.82,0.19,0.0]\n",
    "real_soc = [0.82,0.54,1.36,0.8,1.34,16.7,1.31,9.38,3.03,0.22,0.06,0.18,0.49,0.51,2.48,0.25,0.0]\n",
    "\n",
    "imprimir_resultados(psg, real_soc)"
   ]
  },
  {
   "cell_type": "code",
   "execution_count": 12,
   "metadata": {},
   "outputs": [
    {
     "name": "stdout",
     "output_type": "stream",
     "text": [
      "[[0.6685693 1.8011996]]\n",
      "[[1.1967394  0.69756925]]\n",
      "(0.683, 1.499)\n"
     ]
    }
   ],
   "source": [
    "copenh = [1.18,0.8,1.97,1.08,1.87,17.35,2.04,9.58,3.3,0.26,0.08,0.25,1.12,0.52,4.42,0.0,0.0]\n",
    "city = [2.09,1.56,3.65,1.82,3.38,26.29,3.86,14.26,5.28,0.28,0.1,0.26,0.68,0.48,2.23,0.31,0.08]\n",
    "\n",
    "imprimir_resultados(copenh, city)"
   ]
  },
  {
   "cell_type": "code",
   "execution_count": 13,
   "metadata": {},
   "outputs": [
    {
     "name": "stdout",
     "output_type": "stream",
     "text": [
      "[[1.0590829 0.9950427]]\n",
      "[[0.5407177 1.3670515]]\n",
      "(1.213, 0.768)\n"
     ]
    }
   ],
   "source": [
    "barca = [1.39,1.26,2.66,1.38,2.64,21.04,2.44,12.06,4.15,0.26,0.09,0.25,0.67,0.53,2.53,0.52,0.15]\n",
    "napoli = [1.02,0.53,1.55,0.9,1.43,19.86,1.74,10.84,3.28,0.23,0.06,0.21,1.0,0.52,3.78,0.0,0.0]\n",
    "\n",
    "imprimir_resultados(barca, napoli)"
   ]
  },
  {
   "cell_type": "code",
   "execution_count": 14,
   "metadata": {},
   "outputs": [
    {
     "name": "stdout",
     "output_type": "stream",
     "text": [
      "[[0.8507177 1.1732854]]\n",
      "[[0.5323679 1.2254393]]\n",
      "(1.038, 0.853)\n"
     ]
    }
   ],
   "source": [
    "atl_mad = [1.56,1.01,2.57,1.53,2.54,18.95,2.47,10.24,3.66,0.27,0.12,0.32,0.79,0.56,3.46,0.33,0.0]\n",
    "inter = [1.22,0.77,1.99,0.94,1.71,19.86,2.07,10.88,3.47,0.24,0.06,0.2,0.58,0.6,3.11,0.38,0.13]\n",
    "\n",
    "imprimir_resultados(atl_mad, inter)"
   ]
  },
  {
   "cell_type": "code",
   "execution_count": 15,
   "metadata": {},
   "outputs": [
    {
     "name": "stdout",
     "output_type": "stream",
     "text": [
      "[[0.8524982 1.1245407]]\n",
      "[[0.6434672 1.1451586]]\n",
      "(0.999, 0.884)\n"
     ]
    }
   ],
   "source": [
    "dortmund = [1.17,0.92,2.09,1.03,1.95,19.19,2.12,10.7,3.58,0.25,0.07,0.21,0.57,0.6,2.74,0.19,0.05]\n",
    "psv = [1.12,0.75,1.87,0.95,1.7,21.29,1.98,11.64,4.12,0.27,0.06,0.16,1.09,0.46,3.06,0.1,0.03]\n",
    "\n",
    "imprimir_resultados(dortmund, psv)"
   ]
  },
  {
   "cell_type": "code",
   "execution_count": 16,
   "metadata": {},
   "outputs": [
    {
     "name": "stdout",
     "output_type": "stream",
     "text": [
      "[[0.70111346 0.7254163 ]]\n",
      "[[0.41510063 1.131803  ]]\n",
      "(0.916, 0.57)\n"
     ]
    }
   ],
   "source": [
    "bay_munch = [1.28,1.0,2.28,1.18,2.18,19.23,2.11,10.82,3.2,0.22,0.08,0.28,0.7,0.57,2.74,0.51,0.15]\n",
    "lazio = [0.78,0.5,1.28,0.62,1.12,15.22,1.35,8.49,2.48,0.22,0.06,0.19,0.91,0.52,3.56,0.0,0.0]\n",
    "\n",
    "imprimir_resultados(bay_munch, lazio)"
   ]
  },
  {
   "cell_type": "code",
   "execution_count": 17,
   "metadata": {},
   "outputs": [
    {
     "name": "stdout",
     "output_type": "stream",
     "text": [
      "[[0.9564413 1.4219787]]\n",
      "[[0.90430474 1.3419998 ]]\n",
      "(1.149, 1.163)\n"
     ]
    }
   ],
   "source": [
    "arsenal = [1.6,1.26,2.86,1.49,2.75,16.63,2.76,9.26,3.58,0.29,0.12,0.32,0.65,0.55,2.66,0.1,0.0]\n",
    "porto = [1.66,1.23,2.88,1.53,2.77,18.7,2.67,10.46,4.36,0.32,0.11,0.26,0.88,0.53,3.11,0.08,0.05]\n",
    "\n",
    "imprimir_resultados(arsenal, porto)"
   ]
  },
  {
   "cell_type": "code",
   "execution_count": 18,
   "metadata": {},
   "outputs": [
    {
     "name": "stdout",
     "output_type": "stream",
     "text": [
      "[[1.0646523 1.0261896]]\n",
      "[[0.6146142 1.462718 ]]\n",
      "(1.264, 0.82)\n"
     ]
    }
   ],
   "source": [
    "real_mad = [1.57,1.35,2.92,1.53,2.88,24.5,2.98,13.2,4.48,0.22,0.08,0.23,0.58,0.54,3.3,0.6,0.26]\n",
    "lepizig = [1.21,1.06,2.27,1.18,2.25,17.27,2.04,10.46,3.61,0.23,0.07,0.22,0.92,0.42,3.08,0.2,0.0]\n",
    "\n",
    "imprimir_resultados(real_mad, lepizig)"
   ]
  },
  {
   "cell_type": "markdown",
   "metadata": {},
   "source": [
    "### Cuartos"
   ]
  },
  {
   "cell_type": "code",
   "execution_count": 19,
   "metadata": {},
   "outputs": [
    {
     "name": "stdout",
     "output_type": "stream",
     "text": [
      "[[0.561795  1.2016865]]\n",
      "[[0.96190256 1.2116959 ]]\n",
      "(0.887, 1.082)\n"
     ]
    }
   ],
   "source": [
    "imprimir_resultados(dortmund, atl_mad)"
   ]
  },
  {
   "cell_type": "code",
   "execution_count": 20,
   "metadata": {},
   "outputs": [
    {
     "name": "stdout",
     "output_type": "stream",
     "text": [
      "[[0.871328  1.3768768]]\n",
      "[[0.8816488 1.3629324]]\n",
      "(1.117, 1.129)\n"
     ]
    }
   ],
   "source": [
    "imprimir_resultados(barca, psg)"
   ]
  },
  {
   "cell_type": "code",
   "execution_count": 21,
   "metadata": {},
   "outputs": [
    {
     "name": "stdout",
     "output_type": "stream",
     "text": [
      "[[0.65379155 1.2287954 ]]\n",
      "[[1.141364  1.0906023]]\n",
      "(0.872, 1.185)\n"
     ]
    }
   ],
   "source": [
    "imprimir_resultados(bay_munch, arsenal)"
   ]
  },
  {
   "cell_type": "code",
   "execution_count": 22,
   "metadata": {},
   "outputs": [
    {
     "name": "stdout",
     "output_type": "stream",
     "text": [
      "[[1.2095451 1.6114765]]\n",
      "[[1.6018155 1.2365834]]\n",
      "(1.223, 1.607)\n"
     ]
    }
   ],
   "source": [
    "imprimir_resultados(real_mad, city)"
   ]
  },
  {
   "cell_type": "markdown",
   "metadata": {},
   "source": [
    "### Semis"
   ]
  },
  {
   "cell_type": "code",
   "execution_count": 26,
   "metadata": {},
   "outputs": [
    {
     "name": "stdout",
     "output_type": "stream",
     "text": [
      "[[0.7245574 1.2479017]]\n",
      "[[0.8254223 1.4852743]]\n",
      "(1.105, 1.037)\n"
     ]
    }
   ],
   "source": [
    "imprimir_resultados(psg, atl_mad)"
   ]
  },
  {
   "cell_type": "code",
   "execution_count": 24,
   "metadata": {},
   "outputs": [
    {
     "name": "stdout",
     "output_type": "stream",
     "text": [
      "[[1.233898  1.5570681]]\n",
      "[[1.3454496 0.8985183]]\n",
      "(1.066, 1.451)\n"
     ]
    }
   ],
   "source": [
    "imprimir_resultados(arsenal, city)"
   ]
  },
  {
   "cell_type": "markdown",
   "metadata": {},
   "source": [
    "### Final"
   ]
  },
  {
   "cell_type": "code",
   "execution_count": 27,
   "metadata": {},
   "outputs": [
    {
     "name": "stdout",
     "output_type": "stream",
     "text": [
      "[[0.93478954 1.6999861 ]]\n",
      "[[1.6906704 1.2285203]]\n",
      "(1.082, 1.695)\n"
     ]
    }
   ],
   "source": [
    "imprimir_resultados(psg,city)"
   ]
  }
 ],
 "metadata": {
  "kernelspec": {
   "display_name": "IA_UCL",
   "language": "python",
   "name": "python3"
  },
  "language_info": {
   "codemirror_mode": {
    "name": "ipython",
    "version": 3
   },
   "file_extension": ".py",
   "mimetype": "text/x-python",
   "name": "python",
   "nbconvert_exporter": "python",
   "pygments_lexer": "ipython3",
   "version": "3.10.13"
  }
 },
 "nbformat": 4,
 "nbformat_minor": 2
}
