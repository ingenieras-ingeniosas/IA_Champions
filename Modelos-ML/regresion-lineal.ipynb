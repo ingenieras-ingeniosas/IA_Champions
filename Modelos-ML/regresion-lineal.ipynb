{
 "cells": [
  {
   "cell_type": "code",
   "execution_count": 1,
   "metadata": {},
   "outputs": [],
   "source": [
    "import pandas as pd\n",
    "import numpy as np\n",
    "from matplotlib import pyplot as plt\n",
    "\n",
    "from sklearn.model_selection import train_test_split\n",
    "from sklearn.preprocessing import StandardScaler"
   ]
  },
  {
   "cell_type": "code",
   "execution_count": 3,
   "metadata": {},
   "outputs": [
    {
     "name": "stdout",
     "output_type": "stream",
     "text": [
      "DATOS LISTOS\n",
      "\n"
     ]
    },
    {
     "data": {
      "text/plain": [
       "'\\nscaler = StandardScaler()\\nx_train_sc = scaler.fit_transform(x_train)\\nx_test_sc = scaler.transform(x_test)\\n'"
      ]
     },
     "execution_count": 3,
     "metadata": {},
     "output_type": "execute_result"
    }
   ],
   "source": [
    "# PREPOCESAMIENTO DE DATOS\n",
    "\n",
    "\n",
    "# cargar dataset\n",
    "df_part = pd.read_csv('../data/partidos/todos_partidos.csv')\n",
    "df_part.set_index('Match_ID', inplace=True)\n",
    "\n",
    "# seleccionar variables de interes\n",
    "df_1 = df_part.copy()\n",
    "variables = df_1.drop(['Nombre_Eq1', 'Nombre_Eq2', 'GANADOR'], axis=1).columns.to_list()\n",
    "df_1 = df_1[variables]\n",
    "\n",
    "\n",
    "# ampliar dataset (x4) para ML\n",
    "df_3 = df_1.copy()\n",
    "for _ in range(2):\n",
    "    df_3 = pd.concat([df_3, df_3], axis=0)\n",
    "\n",
    "print('DATOS LISTOS')\n",
    "print()\n",
    "\n",
    "\n",
    "# DIVIDIR TEST Y TRAIN\n",
    "df_4 = df_3.copy()\n",
    "caracteristicas = df_4.drop(['Gol_Match_Eq1', 'Gol_Match_Eq2'], axis=1).columns.to_list()\n",
    "objetivo = ['Gol_Match_Eq1', 'Gol_Match_Eq2']\n",
    "\n",
    "# dividir 70%-30% en entrenamiento y test\n",
    "x_train, x_test, y_train, y_test = train_test_split(df_4[caracteristicas].values,\n",
    "                                                    df_4[objetivo].values,\n",
    "                                                    test_size=0.3,\n",
    "                                                    random_state=53)\n",
    "\n",
    "# noramlizar catacteristicas\n",
    "'''\n",
    "scaler = StandardScaler()\n",
    "x_train_sc = scaler.fit_transform(x_train)\n",
    "x_test_sc = scaler.transform(x_test)\n",
    "'''"
   ]
  },
  {
   "cell_type": "code",
   "execution_count": 4,
   "metadata": {},
   "outputs": [
    {
     "data": {
      "text/html": [
       "<style>#sk-container-id-1 {color: black;}#sk-container-id-1 pre{padding: 0;}#sk-container-id-1 div.sk-toggleable {background-color: white;}#sk-container-id-1 label.sk-toggleable__label {cursor: pointer;display: block;width: 100%;margin-bottom: 0;padding: 0.3em;box-sizing: border-box;text-align: center;}#sk-container-id-1 label.sk-toggleable__label-arrow:before {content: \"▸\";float: left;margin-right: 0.25em;color: #696969;}#sk-container-id-1 label.sk-toggleable__label-arrow:hover:before {color: black;}#sk-container-id-1 div.sk-estimator:hover label.sk-toggleable__label-arrow:before {color: black;}#sk-container-id-1 div.sk-toggleable__content {max-height: 0;max-width: 0;overflow: hidden;text-align: left;background-color: #f0f8ff;}#sk-container-id-1 div.sk-toggleable__content pre {margin: 0.2em;color: black;border-radius: 0.25em;background-color: #f0f8ff;}#sk-container-id-1 input.sk-toggleable__control:checked~div.sk-toggleable__content {max-height: 200px;max-width: 100%;overflow: auto;}#sk-container-id-1 input.sk-toggleable__control:checked~label.sk-toggleable__label-arrow:before {content: \"▾\";}#sk-container-id-1 div.sk-estimator input.sk-toggleable__control:checked~label.sk-toggleable__label {background-color: #d4ebff;}#sk-container-id-1 div.sk-label input.sk-toggleable__control:checked~label.sk-toggleable__label {background-color: #d4ebff;}#sk-container-id-1 input.sk-hidden--visually {border: 0;clip: rect(1px 1px 1px 1px);clip: rect(1px, 1px, 1px, 1px);height: 1px;margin: -1px;overflow: hidden;padding: 0;position: absolute;width: 1px;}#sk-container-id-1 div.sk-estimator {font-family: monospace;background-color: #f0f8ff;border: 1px dotted black;border-radius: 0.25em;box-sizing: border-box;margin-bottom: 0.5em;}#sk-container-id-1 div.sk-estimator:hover {background-color: #d4ebff;}#sk-container-id-1 div.sk-parallel-item::after {content: \"\";width: 100%;border-bottom: 1px solid gray;flex-grow: 1;}#sk-container-id-1 div.sk-label:hover label.sk-toggleable__label {background-color: #d4ebff;}#sk-container-id-1 div.sk-serial::before {content: \"\";position: absolute;border-left: 1px solid gray;box-sizing: border-box;top: 0;bottom: 0;left: 50%;z-index: 0;}#sk-container-id-1 div.sk-serial {display: flex;flex-direction: column;align-items: center;background-color: white;padding-right: 0.2em;padding-left: 0.2em;position: relative;}#sk-container-id-1 div.sk-item {position: relative;z-index: 1;}#sk-container-id-1 div.sk-parallel {display: flex;align-items: stretch;justify-content: center;background-color: white;position: relative;}#sk-container-id-1 div.sk-item::before, #sk-container-id-1 div.sk-parallel-item::before {content: \"\";position: absolute;border-left: 1px solid gray;box-sizing: border-box;top: 0;bottom: 0;left: 50%;z-index: -1;}#sk-container-id-1 div.sk-parallel-item {display: flex;flex-direction: column;z-index: 1;position: relative;background-color: white;}#sk-container-id-1 div.sk-parallel-item:first-child::after {align-self: flex-end;width: 50%;}#sk-container-id-1 div.sk-parallel-item:last-child::after {align-self: flex-start;width: 50%;}#sk-container-id-1 div.sk-parallel-item:only-child::after {width: 0;}#sk-container-id-1 div.sk-dashed-wrapped {border: 1px dashed gray;margin: 0 0.4em 0.5em 0.4em;box-sizing: border-box;padding-bottom: 0.4em;background-color: white;}#sk-container-id-1 div.sk-label label {font-family: monospace;font-weight: bold;display: inline-block;line-height: 1.2em;}#sk-container-id-1 div.sk-label-container {text-align: center;}#sk-container-id-1 div.sk-container {/* jupyter's `normalize.less` sets `[hidden] { display: none; }` but bootstrap.min.css set `[hidden] { display: none !important; }` so we also need the `!important` here to be able to override the default hidden behavior on the sphinx rendered scikit-learn.org. See: https://github.com/scikit-learn/scikit-learn/issues/21755 */display: inline-block !important;position: relative;}#sk-container-id-1 div.sk-text-repr-fallback {display: none;}</style><div id=\"sk-container-id-1\" class=\"sk-top-container\"><div class=\"sk-text-repr-fallback\"><pre>LinearRegression()</pre><b>In a Jupyter environment, please rerun this cell to show the HTML representation or trust the notebook. <br />On GitHub, the HTML representation is unable to render, please try loading this page with nbviewer.org.</b></div><div class=\"sk-container\" hidden><div class=\"sk-item\"><div class=\"sk-estimator sk-toggleable\"><input class=\"sk-toggleable__control sk-hidden--visually\" id=\"sk-estimator-id-1\" type=\"checkbox\" checked><label for=\"sk-estimator-id-1\" class=\"sk-toggleable__label sk-toggleable__label-arrow\">LinearRegression</label><div class=\"sk-toggleable__content\"><pre>LinearRegression()</pre></div></div></div></div></div>"
      ],
      "text/plain": [
       "LinearRegression()"
      ]
     },
     "execution_count": 4,
     "metadata": {},
     "output_type": "execute_result"
    }
   ],
   "source": [
    "# APLICAR MODELO REGREIÓN LINEAL\n",
    "from sklearn.linear_model import LinearRegression\n",
    "\n",
    "modelo_regr_lineal = LinearRegression()\n",
    "modelo_regr_lineal.fit(x_train, y_train)"
   ]
  },
  {
   "cell_type": "code",
   "execution_count": 8,
   "metadata": {},
   "outputs": [
    {
     "data": {
      "text/plain": [
       "array([[ 4.,  1.],\n",
       "       [ 2.,  1.],\n",
       "       [ 0.,  1.],\n",
       "       [ 0.,  3.],\n",
       "       [ 2.,  0.],\n",
       "       [ 1.,  3.],\n",
       "       [ 0.,  1.],\n",
       "       [ 1.,  1.],\n",
       "       [ 1.,  2.],\n",
       "       [ 1.,  2.],\n",
       "       [ 1.,  1.],\n",
       "       [ 1.,  3.],\n",
       "       [ 1.,  0.],\n",
       "       [ 2.,  1.],\n",
       "       [ 1.,  4.],\n",
       "       [ 3.,  1.],\n",
       "       [ 3.,  1.],\n",
       "       [ 1.,  0.],\n",
       "       [ 1.,  2.],\n",
       "       [ 2.,  1.],\n",
       "       [ 1.,  2.],\n",
       "       [ 2.,  1.],\n",
       "       [ 1.,  2.],\n",
       "       [ 3.,  3.],\n",
       "       [ 1.,  2.],\n",
       "       [ 1.,  2.],\n",
       "       [ 2.,  2.],\n",
       "       [ 1.,  1.],\n",
       "       [ 3.,  1.],\n",
       "       [ 4.,  0.],\n",
       "       [ 4.,  1.],\n",
       "       [ 3.,  1.],\n",
       "       [ 1.,  1.],\n",
       "       [ 1.,  2.],\n",
       "       [ 1.,  1.],\n",
       "       [ 0.,  2.],\n",
       "       [ 1.,  1.],\n",
       "       [ 1.,  2.],\n",
       "       [ 1.,  2.],\n",
       "       [ 0.,  3.],\n",
       "       [ 1.,  1.],\n",
       "       [ 0.,  2.],\n",
       "       [ 1.,  1.],\n",
       "       [ 2.,  1.],\n",
       "       [ 1.,  2.],\n",
       "       [ 1.,  2.],\n",
       "       [ 2.,  1.],\n",
       "       [ 1.,  2.],\n",
       "       [ 2.,  1.],\n",
       "       [ 3.,  2.],\n",
       "       [ 1.,  3.],\n",
       "       [ 3.,  2.],\n",
       "       [ 1.,  1.],\n",
       "       [ 2.,  1.],\n",
       "       [ 1.,  1.],\n",
       "       [ 2.,  1.],\n",
       "       [ 1.,  2.],\n",
       "       [ 1.,  1.],\n",
       "       [ 3.,  0.],\n",
       "       [ 2.,  2.],\n",
       "       [ 3., -0.],\n",
       "       [ 2.,  1.],\n",
       "       [ 3.,  1.],\n",
       "       [ 1.,  2.],\n",
       "       [ 1.,  2.],\n",
       "       [ 2.,  1.],\n",
       "       [ 0.,  3.],\n",
       "       [ 2.,  1.],\n",
       "       [ 2.,  1.],\n",
       "       [ 1.,  2.],\n",
       "       [ 2.,  1.],\n",
       "       [ 1.,  2.],\n",
       "       [ 3.,  1.],\n",
       "       [ 1.,  2.],\n",
       "       [ 3.,  0.],\n",
       "       [ 1.,  2.],\n",
       "       [ 2.,  2.],\n",
       "       [ 3.,  0.],\n",
       "       [ 1.,  4.],\n",
       "       [ 2.,  4.],\n",
       "       [ 1.,  2.],\n",
       "       [ 3.,  1.],\n",
       "       [ 3.,  2.],\n",
       "       [ 3.,  0.],\n",
       "       [ 1.,  2.],\n",
       "       [ 3.,  2.],\n",
       "       [ 0.,  3.],\n",
       "       [ 1.,  1.],\n",
       "       [ 2.,  1.],\n",
       "       [ 1.,  1.],\n",
       "       [ 1.,  2.],\n",
       "       [ 1.,  1.],\n",
       "       [ 1.,  1.],\n",
       "       [ 0.,  1.],\n",
       "       [ 1.,  4.],\n",
       "       [ 3.,  0.],\n",
       "       [ 4.,  1.],\n",
       "       [ 3.,  1.],\n",
       "       [ 1.,  1.],\n",
       "       [ 2.,  2.],\n",
       "       [ 2.,  1.],\n",
       "       [ 1.,  1.],\n",
       "       [ 1.,  4.],\n",
       "       [ 1.,  2.],\n",
       "       [ 3.,  1.],\n",
       "       [ 1.,  1.],\n",
       "       [ 0.,  2.],\n",
       "       [ 1.,  2.],\n",
       "       [ 4.,  1.],\n",
       "       [ 1.,  1.],\n",
       "       [ 2.,  0.],\n",
       "       [ 1.,  1.],\n",
       "       [ 1.,  3.],\n",
       "       [ 2.,  2.],\n",
       "       [ 2.,  0.],\n",
       "       [ 1.,  2.],\n",
       "       [ 2.,  0.],\n",
       "       [ 1.,  0.],\n",
       "       [ 2.,  1.],\n",
       "       [ 1.,  1.],\n",
       "       [ 1.,  3.],\n",
       "       [ 0.,  1.],\n",
       "       [ 0.,  3.],\n",
       "       [ 4., -1.],\n",
       "       [-0.,  4.],\n",
       "       [ 2.,  2.],\n",
       "       [ 3.,  0.],\n",
       "       [ 1.,  2.],\n",
       "       [ 1.,  3.],\n",
       "       [ 1.,  0.],\n",
       "       [ 2.,  1.],\n",
       "       [ 4.,  0.],\n",
       "       [ 1.,  1.],\n",
       "       [ 3., -0.],\n",
       "       [ 2.,  0.],\n",
       "       [ 2.,  1.],\n",
       "       [ 1.,  1.],\n",
       "       [ 3.,  1.],\n",
       "       [ 0.,  1.],\n",
       "       [ 4.,  1.],\n",
       "       [ 2.,  1.],\n",
       "       [ 2.,  2.],\n",
       "       [ 1.,  1.],\n",
       "       [ 2.,  1.],\n",
       "       [ 2.,  1.],\n",
       "       [ 1.,  1.],\n",
       "       [ 1.,  2.],\n",
       "       [ 1.,  1.],\n",
       "       [-0.,  4.],\n",
       "       [ 3.,  1.],\n",
       "       [ 2.,  1.],\n",
       "       [ 2.,  1.],\n",
       "       [ 1.,  2.],\n",
       "       [ 1.,  0.],\n",
       "       [ 2.,  1.],\n",
       "       [ 3.,  2.],\n",
       "       [ 1.,  3.],\n",
       "       [ 1.,  4.],\n",
       "       [ 1.,  1.],\n",
       "       [ 2.,  1.],\n",
       "       [ 2.,  1.],\n",
       "       [ 2.,  2.],\n",
       "       [ 1.,  1.],\n",
       "       [ 0.,  3.],\n",
       "       [ 2.,  1.],\n",
       "       [ 2.,  1.],\n",
       "       [ 1.,  1.],\n",
       "       [ 1.,  1.],\n",
       "       [ 2.,  2.],\n",
       "       [ 2.,  3.],\n",
       "       [ 1.,  1.],\n",
       "       [ 1.,  2.],\n",
       "       [ 1.,  1.],\n",
       "       [ 1.,  1.],\n",
       "       [ 3.,  1.],\n",
       "       [ 1.,  2.],\n",
       "       [ 1.,  1.],\n",
       "       [ 3.,  2.],\n",
       "       [ 1.,  2.],\n",
       "       [ 3.,  2.],\n",
       "       [ 1.,  0.],\n",
       "       [ 1.,  2.],\n",
       "       [ 1.,  0.],\n",
       "       [ 1.,  0.],\n",
       "       [ 2.,  1.],\n",
       "       [ 2.,  1.],\n",
       "       [ 1.,  2.],\n",
       "       [ 3.,  1.],\n",
       "       [ 2.,  3.],\n",
       "       [ 3.,  1.],\n",
       "       [ 2.,  1.],\n",
       "       [ 1.,  0.],\n",
       "       [ 1.,  4.],\n",
       "       [ 3., -0.],\n",
       "       [ 1.,  2.],\n",
       "       [ 3., -0.],\n",
       "       [ 2.,  0.],\n",
       "       [ 1.,  0.],\n",
       "       [ 1.,  2.],\n",
       "       [ 1.,  1.],\n",
       "       [ 2., -1.],\n",
       "       [ 1.,  3.],\n",
       "       [ 1.,  2.],\n",
       "       [ 2.,  2.],\n",
       "       [ 1.,  2.],\n",
       "       [ 4., -0.],\n",
       "       [ 1.,  0.],\n",
       "       [ 1.,  1.],\n",
       "       [ 2.,  3.],\n",
       "       [ 2.,  1.],\n",
       "       [ 1.,  1.],\n",
       "       [ 1.,  1.],\n",
       "       [ 1.,  2.],\n",
       "       [ 1.,  2.],\n",
       "       [ 1.,  2.],\n",
       "       [ 4.,  0.],\n",
       "       [ 2.,  1.],\n",
       "       [ 1.,  1.],\n",
       "       [ 1.,  1.],\n",
       "       [ 3., -0.],\n",
       "       [ 1.,  1.],\n",
       "       [ 1.,  2.],\n",
       "       [ 1.,  2.],\n",
       "       [ 4., -0.],\n",
       "       [ 1.,  2.],\n",
       "       [ 2.,  4.],\n",
       "       [ 2.,  1.],\n",
       "       [ 2.,  2.],\n",
       "       [ 2.,  3.],\n",
       "       [ 1.,  1.],\n",
       "       [ 2.,  1.],\n",
       "       [ 2.,  1.],\n",
       "       [ 1.,  2.],\n",
       "       [ 4.,  1.],\n",
       "       [ 3.,  1.],\n",
       "       [ 2.,  1.],\n",
       "       [ 1.,  1.],\n",
       "       [ 0.,  3.],\n",
       "       [ 1.,  1.],\n",
       "       [ 1.,  1.],\n",
       "       [ 2.,  1.],\n",
       "       [ 1.,  1.],\n",
       "       [ 2.,  1.],\n",
       "       [ 2.,  1.],\n",
       "       [ 1.,  2.],\n",
       "       [ 2.,  1.],\n",
       "       [ 1.,  1.],\n",
       "       [ 3.,  0.],\n",
       "       [ 1.,  2.],\n",
       "       [ 2.,  2.],\n",
       "       [ 1.,  1.],\n",
       "       [ 2.,  1.],\n",
       "       [ 0.,  2.],\n",
       "       [ 1.,  0.],\n",
       "       [ 1.,  3.],\n",
       "       [ 1.,  2.],\n",
       "       [ 1.,  1.],\n",
       "       [ 2.,  0.],\n",
       "       [ 1.,  1.],\n",
       "       [ 2.,  1.],\n",
       "       [ 2.,  1.],\n",
       "       [ 2.,  1.],\n",
       "       [ 1.,  2.],\n",
       "       [ 3.,  0.],\n",
       "       [ 1.,  3.],\n",
       "       [ 1.,  1.]])"
      ]
     },
     "execution_count": 8,
     "metadata": {},
     "output_type": "execute_result"
    }
   ],
   "source": [
    "# PREDICCIONES\n",
    "predicciones = modelo_regr_lineal.predict(x_test)\n",
    "\n",
    "predicciones = np.round(predicciones)\n",
    "predicciones"
   ]
  },
  {
   "cell_type": "code",
   "execution_count": 7,
   "metadata": {},
   "outputs": [
    {
     "name": "stdout",
     "output_type": "stream",
     "text": [
      "Métricas de evaluación:\n",
      "MSE: 1.1998628085645524\n",
      "R2: 0.37808723084920143\n"
     ]
    }
   ],
   "source": [
    "# EVALUACIÓN\n",
    "from sklearn.metrics import mean_squared_error, r2_score\n",
    "\n",
    "print('Métricas de evaluación:')\n",
    "print('MSE:', mean_squared_error(y_test, predicciones))\n",
    "print('R2:', r2_score(y_test, predicciones))"
   ]
  },
  {
   "cell_type": "markdown",
   "metadata": {},
   "source": [
    "## Predicciones"
   ]
  },
  {
   "cell_type": "code",
   "execution_count": 13,
   "metadata": {},
   "outputs": [
    {
     "name": "stdout",
     "output_type": "stream",
     "text": [
      "30\n"
     ]
    }
   ],
   "source": [
    "print(len(caracteristicas))"
   ]
  },
  {
   "cell_type": "code",
   "execution_count": 55,
   "metadata": {},
   "outputs": [],
   "source": [
    "def resultado_partido(estad_eq1, estad_eq2):\n",
    "    df_partido = pd.DataFrame([estad_eq1+estad_eq2], columns=caracteristicas)\n",
    "    resultado = modelo_regr_lineal.predict(df_partido.values)\n",
    "\n",
    "    resultado_eq1 = resultado[0][0].round(5)\n",
    "    resultado_eq2 = resultado[0][1].round(5)\n",
    "    return resultado_eq1, resultado_eq2\n",
    "\n"
   ]
  },
  {
   "cell_type": "code",
   "execution_count": 56,
   "metadata": {},
   "outputs": [],
   "source": [
    "def resultado_media_final(eq1, eq2):\n",
    "    '''media de partido de ida y de vuelta'''\n",
    "    eq1_eq2 = resultado_partido(eq1, eq2)\n",
    "    eq2_eq1 = resultado_partido(eq2, eq1)\n",
    "    goles_eq1 = [eq1_eq2[0], eq2_eq1[1]]\n",
    "    goles_eq2 = [eq1_eq2[1], eq2_eq1[0]]\n",
    "\n",
    "    media_eq1 = np.mean(goles_eq1).round(3)\n",
    "    media_eq2 = np.mean(goles_eq2).round(3)\n",
    "\n",
    "    return media_eq1, media_eq2"
   ]
  },
  {
   "cell_type": "markdown",
   "metadata": {},
   "source": [
    "### Octavos"
   ]
  },
  {
   "cell_type": "code",
   "execution_count": 57,
   "metadata": {},
   "outputs": [
    {
     "data": {
      "text/plain": [
       "(1.175, 1.018)"
      ]
     },
     "execution_count": 57,
     "metadata": {},
     "output_type": "execute_result"
    }
   ],
   "source": [
    "psg = [1.62,1.13,2.75,1.37,2.5,28.75,2.5,16.12,5.12,0.32,0.09,0.27,1.13,0.75,36]\n",
    "real_soc = [1.0,0.62,1.62,1.0,1.62,23.37,1.5,13.25,4.25,0.32,0.08,0.24,0.75,0.76,25]\n",
    "\n",
    "resultado_media_final(psg, real_soc)"
   ]
  },
  {
   "cell_type": "code",
   "execution_count": 58,
   "metadata": {},
   "outputs": [
    {
     "data": {
      "text/plain": [
       "(0.375, 2.652)"
      ]
     },
     "execution_count": 58,
     "metadata": {},
     "output_type": "execute_result"
    }
   ],
   "source": [
    "copenh = [1.25,0.75,2.0,1.13,1.87,18.25,2.12,10.25,3.25,0.32,0.11,0.35,1.75,0.7,44]\n",
    "city = [2.38,1.77,4.15,2.23,4.0,28.08,4.0,15.08,6.54,0.43,0.15,0.34,0.38,0.89,37]\n",
    "\n",
    "resultado_media_final(copenh, city)"
   ]
  },
  {
   "cell_type": "code",
   "execution_count": 59,
   "metadata": {},
   "outputs": [
    {
     "data": {
      "text/plain": [
       "(1.502, 0.948)"
      ]
     },
     "execution_count": 59,
     "metadata": {},
     "output_type": "execute_result"
    }
   ],
   "source": [
    "barca = [1.71,1.71,3.43,1.71,3.43,27.29,3.0,16.0,5.14,0.32,0.11,0.33,1.0,0.68,22]\n",
    "napoli = [1.29,0.57,1.86,1.14,1.71,24.86,2.29,13.43,4.0,0.3,0.09,0.29,1.43,0.71,35]\n",
    "\n",
    "resultado_media_final(barca, napoli)"
   ]
  },
  {
   "cell_type": "code",
   "execution_count": 60,
   "metadata": {},
   "outputs": [
    {
     "data": {
      "text/plain": [
       "(2.084, 1.125)"
      ]
     },
     "execution_count": 60,
     "metadata": {},
     "output_type": "execute_result"
    }
   ],
   "source": [
    "atl_mad = [2.14,1.29,3.43,2.14,3.43,23.86,3.14,12.71,4.43,0.35,0.17,0.48,1.0,0.77,31]\n",
    "inter = [1.29,0.71,2.0,0.86,1.57,25.86,2.0,14.43,4.14,0.29,0.06,0.21,0.71,0.8,25]\n",
    "\n",
    "resultado_media_final(atl_mad, inter)"
   ]
  },
  {
   "cell_type": "code",
   "execution_count": 61,
   "metadata": {},
   "outputs": [
    {
     "data": {
      "text/plain": [
       "(1.254, 0.645)"
      ]
     },
     "execution_count": 61,
     "metadata": {},
     "output_type": "execute_result"
    }
   ],
   "source": [
    "dortmund = [1.14,1.0,2.14,1.0,2.0,23.0,2.14,13.0,4.43,0.34,0.08,0.23,0.71,0.89,26]\n",
    "psv = [1.14,0.71,1.86,0.86,1.57,28.43,2.14,15.29,5.0,0.33,0.06,0.17,1.57,0.59,27]\n",
    "\n",
    "resultado_media_final(dortmund, psv)"
   ]
  },
  {
   "cell_type": "code",
   "execution_count": 62,
   "metadata": {},
   "outputs": [
    {
     "data": {
      "text/plain": [
       "(1.58, 0.528)"
      ]
     },
     "execution_count": 62,
     "metadata": {},
     "output_type": "execute_result"
    }
   ],
   "source": [
    "bay_munch = [1.87,1.5,3.38,1.75,3.25,27.87,3.12,15.37,4.37,0.28,0.11,0.4,0.87,0.77,22]\n",
    "lazio = [1.0,0.62,1.62,0.75,1.37,20.62,1.75,11.37,3.25,0.29,0.07,0.23,1.25,0.68,31]\n",
    "\n",
    "resultado_media_final(bay_munch, lazio)"
   ]
  },
  {
   "cell_type": "code",
   "execution_count": 74,
   "metadata": {},
   "outputs": [
    {
     "data": {
      "text/plain": [
       "(1.831, 1.837)"
      ]
     },
     "execution_count": 74,
     "metadata": {},
     "output_type": "execute_result"
    }
   ],
   "source": [
    "arsenal = [2.29,1.86,4.14,2.14,4.0,22.0,3.86,12.29,4.43,0.36,0.17,0.48,0.71,0.75,20]\n",
    "porto = [2.29,1.71,4.0,2.14,3.86,23.71,3.57,13.29,6.0,0.45,0.16,0.36,1.14,0.67,24]\n",
    "\n",
    "resultado_media_final(arsenal, porto)"
   ]
  },
  {
   "cell_type": "code",
   "execution_count": 64,
   "metadata": {},
   "outputs": [
    {
     "data": {
      "text/plain": [
       "(1.997, 1.13)"
      ]
     },
     "execution_count": 64,
     "metadata": {},
     "output_type": "execute_result"
    }
   ],
   "source": [
    "real_mad = [2.12,1.87,4.0,2.12,4.0,34.75,4.12,18.62,6.0,0.32,0.11,0.35,1.0,0.8,35]\n",
    "lepizig = [1.75,1.62,3.38,1.75,3.38,27.87,3.38,15.5,5.12,0.33,0.11,0.34,1.5,0.6,30]\n",
    "\n",
    "resultado_media_final(real_mad, lepizig)"
   ]
  },
  {
   "cell_type": "markdown",
   "metadata": {},
   "source": [
    "### Cuartos"
   ]
  },
  {
   "cell_type": "code",
   "execution_count": 65,
   "metadata": {},
   "outputs": [
    {
     "data": {
      "text/plain": [
       "(0.974, 1.839)"
      ]
     },
     "execution_count": 65,
     "metadata": {},
     "output_type": "execute_result"
    }
   ],
   "source": [
    "resultado_media_final(dortmund, atl_mad)"
   ]
  },
  {
   "cell_type": "code",
   "execution_count": 69,
   "metadata": {},
   "outputs": [
    {
     "data": {
      "text/plain": [
       "(1.233, 1.157)"
      ]
     },
     "execution_count": 69,
     "metadata": {},
     "output_type": "execute_result"
    }
   ],
   "source": [
    "resultado_media_final(barca, psg)"
   ]
  },
  {
   "cell_type": "code",
   "execution_count": 66,
   "metadata": {},
   "outputs": [
    {
     "data": {
      "text/plain": [
       "(1.446, 1.284)"
      ]
     },
     "execution_count": 66,
     "metadata": {},
     "output_type": "execute_result"
    }
   ],
   "source": [
    "resultado_media_final(arsenal, bay_munch)"
   ]
  },
  {
   "cell_type": "code",
   "execution_count": 67,
   "metadata": {},
   "outputs": [
    {
     "data": {
      "text/plain": [
       "(1.254, 2.206)"
      ]
     },
     "execution_count": 67,
     "metadata": {},
     "output_type": "execute_result"
    }
   ],
   "source": [
    "resultado_media_final(real_mad, city)"
   ]
  },
  {
   "cell_type": "markdown",
   "metadata": {},
   "source": [
    "### Semis"
   ]
  },
  {
   "cell_type": "code",
   "execution_count": 70,
   "metadata": {},
   "outputs": [
    {
     "data": {
      "text/plain": [
       "(0.72916, 1.18315)"
      ]
     },
     "execution_count": 70,
     "metadata": {},
     "output_type": "execute_result"
    }
   ],
   "source": [
    "resultado_partido(barca, atl_mad)"
   ]
  },
  {
   "cell_type": "code",
   "execution_count": 71,
   "metadata": {},
   "outputs": [
    {
     "data": {
      "text/plain": [
       "(1.24926, 1.6329)"
      ]
     },
     "execution_count": 71,
     "metadata": {},
     "output_type": "execute_result"
    }
   ],
   "source": [
    "resultado_partido(arsenal, city)"
   ]
  },
  {
   "cell_type": "markdown",
   "metadata": {},
   "source": [
    "### Final"
   ]
  },
  {
   "cell_type": "code",
   "execution_count": 72,
   "metadata": {},
   "outputs": [
    {
     "data": {
      "text/plain": [
       "(1.83502, 2.37993)"
      ]
     },
     "execution_count": 72,
     "metadata": {},
     "output_type": "execute_result"
    }
   ],
   "source": [
    "resultado_partido(atl_mad,city)"
   ]
  }
 ],
 "metadata": {
  "kernelspec": {
   "display_name": "IA_UCL",
   "language": "python",
   "name": "python3"
  },
  "language_info": {
   "codemirror_mode": {
    "name": "ipython",
    "version": 3
   },
   "file_extension": ".py",
   "mimetype": "text/x-python",
   "name": "python",
   "nbconvert_exporter": "python",
   "pygments_lexer": "ipython3",
   "version": "3.10.13"
  }
 },
 "nbformat": 4,
 "nbformat_minor": 2
}
